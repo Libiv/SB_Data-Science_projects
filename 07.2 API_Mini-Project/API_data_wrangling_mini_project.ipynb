{
 "cells": [
  {
   "cell_type": "markdown",
   "metadata": {},
   "source": [
    "This exercise will require you to pull some data from the Qunadl API. Qaundl is currently the most widely used aggregator of financial market data."
   ]
  },
  {
   "cell_type": "markdown",
   "metadata": {},
   "source": [
    "As a first step, you will need to register a free account on the http://www.quandl.com website."
   ]
  },
  {
   "cell_type": "markdown",
   "metadata": {},
   "source": [
    "After you register, you will be provided with a unique API key, that you should store:"
   ]
  },
  {
   "cell_type": "code",
   "execution_count": 1,
   "metadata": {
    "jupyter": {
     "outputs_hidden": true
    }
   },
   "outputs": [],
   "source": [
    "# Store the API key as a string - according to PEP8, constants are always named in all upper case\n",
    "API_KEY = '7Lhz5C4BysQ92BB1Pnxm'"
   ]
  },
  {
   "cell_type": "markdown",
   "metadata": {},
   "source": [
    "Qaundl has a large number of data sources, but, unfortunately, most of them require a Premium subscription. Still, there are also a good number of free datasets."
   ]
  },
  {
   "cell_type": "markdown",
   "metadata": {},
   "source": [
    "For this mini project, we will focus on equities data from the Frankfurt Stock Exhange (FSE), which is available for free. We'll try and analyze the stock prices of a company called Carl Zeiss Meditec, which manufactures tools for eye examinations, as well as medical lasers for laser eye surgery: https://www.zeiss.com/meditec/int/home.html. The company is listed under the stock ticker AFX_X."
   ]
  },
  {
   "cell_type": "markdown",
   "metadata": {},
   "source": [
    "You can find the detailed Quandl API instructions here: https://docs.quandl.com/docs/time-series"
   ]
  },
  {
   "cell_type": "markdown",
   "metadata": {},
   "source": [
    "While there is a dedicated Python package for connecting to the Quandl API, **we would prefer that you use the *requests* package**, which can be easily downloaded using *pip* or *conda*. You can find the documentation for the package here: http://docs.python-requests.org/en/master/ "
   ]
  },
  {
   "cell_type": "markdown",
   "metadata": {},
   "source": [
    "Finally, apart from the *requests* package, you are encouraged to not use any third party Python packages, such as *pandas*, and instead focus on **what's available in the Python Standard Library (the *collections* module might come in handy: https://pymotw.com/3/collections/ ).**\n",
    "Also, since you won't have access to DataFrames, you are encouraged to us Python's native data structures - preferably dictionaries, though some questions can also be answered using lists.\n",
    "You can read more on these data structures here: https://docs.python.org/3/tutorial/datastructures.html"
   ]
  },
  {
   "cell_type": "markdown",
   "metadata": {},
   "source": [
    "Keep in mind that the JSON responses you will be getting from the API map almost one-to-one to Python's dictionaries. Unfortunately, they can be very nested, so make sure you read up on indexing dictionaries in the documentation provided above."
   ]
  },
  {
   "cell_type": "markdown",
   "metadata": {},
   "source": [
    "Note: API's can change a bit with each version, for this exercise it is reccomended to use the \"V3\" quandl api at `https://www.quandl.com/api/v3/`"
   ]
  },
  {
   "cell_type": "markdown",
   "metadata": {},
   "source": [
    "##### -LB-\n",
    "Frankfurt Stock Exchange Prices API's I'll use here are from:\n",
    "\n",
    "https://www.quandl.com/data/XFRA-Frankfurt-Stock-Exchange-Prices/usage/quickstart/api"
   ]
  },
  {
   "cell_type": "code",
   "execution_count": 2,
   "metadata": {
    "jupyter": {
     "outputs_hidden": true
    }
   },
   "outputs": [],
   "source": [
    "# First, import the relevant modules\n",
    "import requests\n",
    "import json\n",
    "import collections"
   ]
  },
  {
   "cell_type": "markdown",
   "metadata": {},
   "source": [
    "###\n",
    " Now, call the Quandl API and pull out a small sample of the data (only one day) to get a glimpse\n",
    " into the JSON structure that will be returned"
   ]
  },
  {
   "cell_type": "code",
   "execution_count": 3,
   "metadata": {},
   "outputs": [],
   "source": [
    "# Filtered by a single date\n",
    "# This call retrieves Nov 30, 2018 data for XFRA/AGB2_UADJ.\n",
    "url = 'https://www.quandl.com/api/v3/datasets/FSE/AFX_X?start_date=2018-11-30&end_date=2018-11-30&api_key=7Lhz5C4BysQ92BB1Pnxm'"
   ]
  },
  {
   "cell_type": "code",
   "execution_count": 4,
   "metadata": {},
   "outputs": [],
   "source": [
    "# package  & send request and catch response to 'r'\n",
    "r = requests.get(url)"
   ]
  },
  {
   "cell_type": "code",
   "execution_count": 5,
   "metadata": {},
   "outputs": [
    {
     "data": {
      "text/plain": [
       "200"
      ]
     },
     "execution_count": 5,
     "metadata": {},
     "output_type": "execute_result"
    }
   ],
   "source": [
    "#performing response status\n",
    "r.status_code"
   ]
  },
  {
   "cell_type": "code",
   "execution_count": 6,
   "metadata": {},
   "outputs": [],
   "source": [
    "# Decode the JSON data into a dictionary: \n",
    "json_data= r.json()"
   ]
  },
  {
   "cell_type": "code",
   "execution_count": 7,
   "metadata": {},
   "outputs": [
    {
     "name": "stdout",
     "output_type": "stream",
     "text": [
      "dataset: {'id': 10095370, 'dataset_code': 'AFX_X', 'database_code': 'FSE', 'name': 'Carl Zeiss Meditec (AFX_X)', 'description': 'Stock Prices for Carl Zeiss Meditec (2020-11-02) from the Frankfurt Stock Exchange.<br><br>Trading System: Xetra<br><br>ISIN: DE0005313704', 'refreshed_at': '2020-12-01T14:48:09.907Z', 'newest_available_date': '2020-12-01', 'oldest_available_date': '2000-06-07', 'column_names': ['Date', 'Open', 'High', 'Low', 'Close', 'Change', 'Traded Volume', 'Turnover', 'Last Price of the Day', 'Daily Traded Units', 'Daily Turnover'], 'frequency': 'daily', 'type': 'Time Series', 'premium': False, 'limit': None, 'transform': None, 'column_index': None, 'start_date': '2018-11-30', 'end_date': '2018-11-30', 'data': [['2018-11-30', None, 62.3, 60.95, 61.0, None, 142218.0, 8716082.0, None, None, None]], 'collapse': None, 'order': None, 'database_id': 6129}\n"
     ]
    }
   ],
   "source": [
    "# Print each key-value pair in json_data\n",
    "for key, value in json_data.items():\n",
    "    print(key+ ':',value)"
   ]
  },
  {
   "cell_type": "markdown",
   "metadata": {
    "collapsed": true,
    "jupyter": {
     "outputs_hidden": true
    }
   },
   "source": [
    "###\n",
    "Inspect the JSON structure of the object you created, and take note of how nested it is, as well as the overall structure"
   ]
  },
  {
   "cell_type": "code",
   "execution_count": 8,
   "metadata": {},
   "outputs": [
    {
     "data": {
      "text/plain": [
       "dict_keys(['dataset'])"
      ]
     },
     "execution_count": 8,
     "metadata": {},
     "output_type": "execute_result"
    }
   ],
   "source": [
    "json_data.keys()"
   ]
  },
  {
   "cell_type": "code",
   "execution_count": 9,
   "metadata": {},
   "outputs": [
    {
     "data": {
      "text/plain": [
       "dict_keys(['id', 'dataset_code', 'database_code', 'name', 'description', 'refreshed_at', 'newest_available_date', 'oldest_available_date', 'column_names', 'frequency', 'type', 'premium', 'limit', 'transform', 'column_index', 'start_date', 'end_date', 'data', 'collapse', 'order', 'database_id'])"
      ]
     },
     "execution_count": 9,
     "metadata": {},
     "output_type": "execute_result"
    }
   ],
   "source": [
    "json_data['dataset'].keys()   "
   ]
  },
  {
   "cell_type": "code",
   "execution_count": 10,
   "metadata": {},
   "outputs": [],
   "source": [
    "# \"dataset\": {\n",
    "#     \"id\": 10095370,\n",
    "#     \"dataset_code\": \"AFX_X\",\n",
    "#     \"database_code\": \"FSE\",\n",
    "#     \"name\": \"Carl Zeiss Meditec (AFX_X)\",\n",
    "#     \"description\": \"Stock Prices for Carl Zeiss Meditec (2020-11-02) from the Frankfurt Stock Exchange.<br><br>Trading System: Xetra<br><br>ISIN: DE0005313704\",\n",
    "#     \"refreshed_at\": \"2020-12-01 14:48:09 UTC\",\n",
    "#     \"newest_available_date\": \"2020-12-01\",\n",
    "#     \"oldest_available_date\": \"2000-06-07\",\n",
    "#     \"column_names\": [\n",
    "#       \"Date\",\n",
    "#       \"Open\",\n",
    "#       \"High\",\n",
    "#       \"Low\",\n",
    "#       \"Close\",\n",
    "#       \"Change\",\n",
    "#       \"Traded Volume\",\n",
    "#       \"Turnover\",\n",
    "#       \"Last Price of the Day\",\n",
    "#       \"Daily Traded Units\",\n",
    "#       \"Daily Turnover\"\n",
    "#     ],\n",
    "#     \"frequency\": \"daily\",\n",
    "#     \"type\": \"Time Series\",\n",
    "#     \"premium\": false,\n",
    "#     \"limit\": null,\n",
    "#     \"transform\": null,\n",
    "#     \"column_index\": null,\n",
    "#     \"start_date\": \"2017-01-01\",\n",
    "#     \"end_date\": \"2017-12-31\",\n",
    "#     \"data\": [\n",
    "#       [\n",
    "#         \"2017-12-29\",\n",
    "#         51.76,\n",
    "#         51.94,\n",
    "#         51.45,\n",
    "#         51.76,\n",
    "#         null,\n",
    "#         34640.0,\n",
    "#         1792304.0,\n",
    "#         null,\n",
    "#         null,\n",
    "#         null\n",
    "#       ],\n",
    "#       [\n",
    "#         \"2017-12-28\",\n",
    "#         51.65,\n",
    "#         51.82,\n",
    "#         51.43,\n",
    "#         51.6,\n",
    "#         null,\n",
    "#         40660.0,\n",
    "#         2099024.0,\n",
    "#         null,\n",
    "#         null,\n",
    "#         null\n",
    "#       ],....\n",
    "#        ...."
   ]
  },
  {
   "cell_type": "markdown",
   "metadata": {},
   "source": [
    "These are your tasks for this mini project:\n",
    "\n",
    "1. Collect data from the Franfurt Stock Exchange, for the ticker AFX_X, for the whole year 2017 (keep in mind that the date format is YYYY-MM-DD).\n",
    "2. Convert the returned JSON object into a Python dictionary.\n",
    "3. Calculate what the highest and lowest opening prices were for the stock in this period.\n",
    "4. What was the largest change in any one day (based on High and Low price)?\n",
    "5. What was the largest change between any two days (based on Closing Price)?\n",
    "6. What was the average daily trading volume during this year?\n",
    "7. (Optional) What was the median trading volume during this year. (Note: you may need to implement your own function for calculating the median.)"
   ]
  },
  {
   "cell_type": "markdown",
   "metadata": {},
   "source": [
    "#### Task1: Collect data from the Franfurt Stock Exchange,for the whole year 2017:\n"
   ]
  },
  {
   "cell_type": "code",
   "execution_count": 11,
   "metadata": {},
   "outputs": [],
   "source": [
    "# Filter by a date range API-URL\n",
    "url1 = 'https://www.quandl.com/api/v3/datasets/FSE/AFX_X?start_date=2017-01-01&end_date=2017-12-31&api_key=7Lhz5C4BysQ92BB1Pnxm'"
   ]
  },
  {
   "cell_type": "code",
   "execution_count": 12,
   "metadata": {
    "jupyter": {
     "outputs_hidden": true
    }
   },
   "outputs": [
    {
     "data": {
      "text/plain": [
       "200"
      ]
     },
     "execution_count": 12,
     "metadata": {},
     "output_type": "execute_result"
    }
   ],
   "source": [
    "# package  & send request and catch response to 'r'\n",
    "r = requests.get(url1)\n",
    "#performing response status\n",
    "r.status_code"
   ]
  },
  {
   "cell_type": "markdown",
   "metadata": {},
   "source": [
    "#### Task 2: Convert the returned JSON object into a Python dictionary."
   ]
  },
  {
   "cell_type": "code",
   "execution_count": 13,
   "metadata": {},
   "outputs": [],
   "source": [
    "# Decode the JSON data into a dictionary: \n",
    "json_data= r.json()"
   ]
  },
  {
   "cell_type": "code",
   "execution_count": 14,
   "metadata": {},
   "outputs": [
    {
     "name": "stdout",
     "output_type": "stream",
     "text": [
      "<class 'dict'>\n"
     ]
    }
   ],
   "source": [
    "print(type(json_data))"
   ]
  },
  {
   "cell_type": "code",
   "execution_count": 15,
   "metadata": {},
   "outputs": [],
   "source": [
    "## Print each key-value pair in json_data\n",
    "#for key, value in json_data.items():\n",
    "#    print(key+ ':',value)\n",
    "\n",
    "## viewing top5 of data list\n",
    "#json_data['dataset']['data'][:5]"
   ]
  },
  {
   "cell_type": "markdown",
   "metadata": {},
   "source": [
    "#### Task 3: Calculate what the highest and lowest opening prices were for the stock in this period."
   ]
  },
  {
   "cell_type": "code",
   "execution_count": 16,
   "metadata": {},
   "outputs": [
    {
     "data": {
      "text/plain": [
       "['Date',\n",
       " 'Open',\n",
       " 'High',\n",
       " 'Low',\n",
       " 'Close',\n",
       " 'Change',\n",
       " 'Traded Volume',\n",
       " 'Turnover',\n",
       " 'Last Price of the Day',\n",
       " 'Daily Traded Units',\n",
       " 'Daily Turnover']"
      ]
     },
     "execution_count": 16,
     "metadata": {},
     "output_type": "execute_result"
    }
   ],
   "source": [
    "json_data['dataset']['column_names']"
   ]
  },
  {
   "cell_type": "code",
   "execution_count": 17,
   "metadata": {},
   "outputs": [
    {
     "data": {
      "text/plain": [
       "list"
      ]
     },
     "execution_count": 17,
     "metadata": {},
     "output_type": "execute_result"
    }
   ],
   "source": [
    "type(json_data['dataset']['data'])"
   ]
  },
  {
   "cell_type": "code",
   "execution_count": 18,
   "metadata": {},
   "outputs": [
    {
     "data": {
      "text/plain": [
       "255"
      ]
     },
     "execution_count": 18,
     "metadata": {},
     "output_type": "execute_result"
    }
   ],
   "source": [
    "#check how many data records there are \n",
    "len(json_data['dataset']['data'])"
   ]
  },
  {
   "cell_type": "code",
   "execution_count": 19,
   "metadata": {},
   "outputs": [
    {
     "name": "stdout",
     "output_type": "stream",
     "text": [
      "The highest and lowest opening prices were: 53.11 and 34.0 for the stock in this period\n"
     ]
    }
   ],
   "source": [
    "# choosing to focus only on the data column representing the opening prices\n",
    "# for this purpuse, I transposed the data so that all 'Open' prices will be in the same list \n",
    "\n",
    "js_transposed = []\n",
    "for i in range(11):\n",
    "    js_transposed.append([row[i] for row in json_data['dataset']['data']])\n",
    "    \n",
    "# each original column is now a separate list, 'Open' prices is the second list, save it in 'opening_prices' new list\n",
    "opening_prices= js_transposed[1]\n",
    "\n",
    "# # choosing highest & lowest values from that list\n",
    "highest = max([i for i in opening_prices if i is not None])\n",
    "lowest = min([i for i in opening_prices if i is not None])\n",
    "\n",
    "#print results:\n",
    "print('The highest and lowest opening prices were: '+ str(highest)+' and '+ str(lowest)+' for the stock in this period')"
   ]
  },
  {
   "cell_type": "markdown",
   "metadata": {},
   "source": [
    "#### Task 4: What was the largest change in any one day (based on High and Low price)?"
   ]
  },
  {
   "cell_type": "code",
   "execution_count": 20,
   "metadata": {},
   "outputs": [
    {
     "name": "stdout",
     "output_type": "stream",
     "text": [
      "The largest change in any one day in 2017, was  2.810\n"
     ]
    }
   ],
   "source": [
    "# saving the 'High' and the 'Low' price's columns lists \n",
    "highest_prices = js_transposed[2]\n",
    "lowest_prices = js_transposed[3]\n",
    "\n",
    "# create a list of tuples, where each tuple is one-day high and low price\n",
    "high_low = zip(highest_prices,lowest_prices)\n",
    "\n",
    "#initiate empty list for the variable that will save all daily changes \n",
    "changes = list()\n",
    "\n",
    "# save each day's the 'change' between high and low price and save it to 'changes' \n",
    "for tupl in list(high_low):\n",
    "    high,low = tupl\n",
    "    change = high - low\n",
    "    changes.append(change)\n",
    "\n",
    "#present the highest change: h_change \n",
    "h_change = max(changes)\n",
    "\n",
    "print('The largest change in any one day in 2017, was ',format(h_change,\".3f\"))"
   ]
  },
  {
   "cell_type": "markdown",
   "metadata": {},
   "source": [
    "#### Task 5: What was the largest change between any two days (based on Closing Price)?"
   ]
  },
  {
   "cell_type": "code",
   "execution_count": 21,
   "metadata": {},
   "outputs": [
    {
     "name": "stdout",
     "output_type": "stream",
     "text": [
      "The largest change between any two consecutive days (based on Closing Price) in 2017, was:  2.560\n"
     ]
    }
   ],
   "source": [
    "# retrieve closeing price column list\n",
    "closing_prices = js_transposed[4]\n",
    "\n",
    "#initiate new list for the changes (based on Closing price) between 2 CONSECUTIVE days\n",
    "con_days_change = list()\n",
    "\n",
    "for i in range(len(closing_prices)-1):\n",
    "    con_days_change.append(abs(float(closing_prices[i+1]-closing_prices[i])))\n",
    "\n",
    "print('The largest change between any two consecutive days (based on Closing Price) in 2017, was: ', format(max(con_days_change), \".3f\"))\n"
   ]
  },
  {
   "cell_type": "markdown",
   "metadata": {},
   "source": [
    "#### Task 6: What was the average daily trading volume during this year?"
   ]
  },
  {
   "cell_type": "code",
   "execution_count": 22,
   "metadata": {},
   "outputs": [
    {
     "name": "stdout",
     "output_type": "stream",
     "text": [
      "The average daily trading volume during this year was:  89124.337\n"
     ]
    }
   ],
   "source": [
    "# retrieve daily Volume column list\n",
    "trading_volumes = js_transposed[6]\n",
    "\n",
    "print('The average daily trading volume during this year was: ', format( sum(trading_volumes)/len(trading_volumes),\".3f\") )\n",
    " "
   ]
  },
  {
   "cell_type": "markdown",
   "metadata": {},
   "source": [
    "#### Task 7: (Optional) What was the median trading volume during this year. (Note: you may need to implement your own function for calculating the median.)"
   ]
  },
  {
   "cell_type": "code",
   "execution_count": 23,
   "metadata": {},
   "outputs": [
    {
     "name": "stdout",
     "output_type": "stream",
     "text": [
      "The median of trading volume during this year was:  76286.0\n"
     ]
    }
   ],
   "source": [
    "#define median function\n",
    "def median(lst):\n",
    "    sortedLst = sorted(lst)\n",
    "    lstLen = len(lst)\n",
    "    index = (lstLen - 1) // 2\n",
    "   \n",
    "    if (lstLen % 2):\n",
    "        return sortedLst[index]\n",
    "    else:\n",
    "        return (sortedLst[index] + sortedLst[index + 1])/2.0\n",
    "    \n",
    "# calling median on trading_volumes list\n",
    "print('The median of trading volume during this year was: ',median(trading_volumes))"
   ]
  },
  {
   "cell_type": "code",
   "execution_count": 24,
   "metadata": {},
   "outputs": [
    {
     "name": "stdout",
     "output_type": "stream",
     "text": [
      "The mode of trading volume during this year was:  88416.0\n"
     ]
    }
   ],
   "source": [
    "mode_volume = max(set(trading_volumes), key = trading_volumes.count)\n",
    "\n",
    "print('The mode of trading volume during this year was: ', mode_volume)"
   ]
  }
 ],
 "metadata": {
  "kernelspec": {
   "display_name": "Python 3",
   "language": "python",
   "name": "python3"
  },
  "language_info": {
   "codemirror_mode": {
    "name": "ipython",
    "version": 3
   },
   "file_extension": ".py",
   "mimetype": "text/x-python",
   "name": "python",
   "nbconvert_exporter": "python",
   "pygments_lexer": "ipython3",
   "version": "3.8.8"
  }
 },
 "nbformat": 4,
 "nbformat_minor": 4
}
